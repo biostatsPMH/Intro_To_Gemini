{
  "cells": [
    {
      "cell_type": "code",
      "source": [
        "# If you subscribe to a paid subscription, you can\n",
        "# check that you are using high-RAM\n",
        "# To change the runtime click the drop-down on the top right of the window\n",
        "from psutil import virtual_memory\n",
        "ram_gb = virtual_memory().total / 1e9\n",
        "print('Your runtime has {:.1f} gigabytes of available RAM\\n'.format(ram_gb))\n",
        "\n",
        "if ram_gb < 20:\n",
        "  print('Not using a high-RAM runtime')\n",
        "else:\n",
        "  print('You are using a high-RAM runtime!')"
      ],
      "metadata": {
        "colab": {
          "base_uri": "https://localhost:8080/"
        },
        "id": "zhQt_VoWHztp",
        "outputId": "109d8e04-70e3-41bb-99d7-8472f2de2ac6"
      },
      "execution_count": null,
      "outputs": [
        {
          "output_type": "stream",
          "name": "stdout",
          "text": [
            "Your runtime has 56.9 gigabytes of available RAM\n",
            "\n",
            "You are using a high-RAM runtime!\n"
          ]
        }
      ]
    },
    {
      "cell_type": "code",
      "source": [
        "# To use the API, you need an API key\n",
        "# You can set this up here\n",
        "# - it may or may not require a paid subscription\n",
        "# the Google environment is constantly changing!\n",
        "# https://aistudio.google.com/app/apikey"
      ],
      "metadata": {
        "id": "wiMqgSa884Q_"
      },
      "execution_count": null,
      "outputs": []
    },
    {
      "cell_type": "code",
      "execution_count": 6,
      "metadata": {
        "id": "5r0pijrz2mAT"
      },
      "outputs": [],
      "source": [
        "!pip install -q -U google-generativeai"
      ]
    },
    {
      "cell_type": "code",
      "execution_count": 7,
      "metadata": {
        "id": "I3rrqgx82xfb"
      },
      "outputs": [],
      "source": [
        "from google.colab import userdata\n",
        "import google.generativeai as genai\n",
        "GOOGLE_API_KEY=userdata.get('GOOGLE_API_KEY')\n",
        "genai.configure(api_key=GOOGLE_API_KEY)\n",
        "model = genai.GenerativeModel(model_name='gemini-pro')"
      ]
    },
    {
      "cell_type": "code",
      "execution_count": 8,
      "metadata": {
        "colab": {
          "base_uri": "https://localhost:8080/",
          "height": 77
        },
        "id": "IQ-r1hus27Ls",
        "outputId": "8c502906-fbab-498d-f13f-07e8ac1fdc9d"
      },
      "outputs": [
        {
          "output_type": "display_data",
          "data": {
            "text/plain": [
              "<IPython.core.display.HTML object>"
            ],
            "text/html": [
              "\n",
              "     <input type=\"file\" id=\"files-ab52db3e-ae48-4c62-bc3e-b02af9bad364\" name=\"files[]\" multiple disabled\n",
              "        style=\"border:none\" />\n",
              "     <output id=\"result-ab52db3e-ae48-4c62-bc3e-b02af9bad364\">\n",
              "      Upload widget is only available when the cell has been executed in the\n",
              "      current browser session. Please rerun this cell to enable.\n",
              "      </output>\n",
              "      <script>// Copyright 2017 Google LLC\n",
              "//\n",
              "// Licensed under the Apache License, Version 2.0 (the \"License\");\n",
              "// you may not use this file except in compliance with the License.\n",
              "// You may obtain a copy of the License at\n",
              "//\n",
              "//      http://www.apache.org/licenses/LICENSE-2.0\n",
              "//\n",
              "// Unless required by applicable law or agreed to in writing, software\n",
              "// distributed under the License is distributed on an \"AS IS\" BASIS,\n",
              "// WITHOUT WARRANTIES OR CONDITIONS OF ANY KIND, either express or implied.\n",
              "// See the License for the specific language governing permissions and\n",
              "// limitations under the License.\n",
              "\n",
              "/**\n",
              " * @fileoverview Helpers for google.colab Python module.\n",
              " */\n",
              "(function(scope) {\n",
              "function span(text, styleAttributes = {}) {\n",
              "  const element = document.createElement('span');\n",
              "  element.textContent = text;\n",
              "  for (const key of Object.keys(styleAttributes)) {\n",
              "    element.style[key] = styleAttributes[key];\n",
              "  }\n",
              "  return element;\n",
              "}\n",
              "\n",
              "// Max number of bytes which will be uploaded at a time.\n",
              "const MAX_PAYLOAD_SIZE = 100 * 1024;\n",
              "\n",
              "function _uploadFiles(inputId, outputId) {\n",
              "  const steps = uploadFilesStep(inputId, outputId);\n",
              "  const outputElement = document.getElementById(outputId);\n",
              "  // Cache steps on the outputElement to make it available for the next call\n",
              "  // to uploadFilesContinue from Python.\n",
              "  outputElement.steps = steps;\n",
              "\n",
              "  return _uploadFilesContinue(outputId);\n",
              "}\n",
              "\n",
              "// This is roughly an async generator (not supported in the browser yet),\n",
              "// where there are multiple asynchronous steps and the Python side is going\n",
              "// to poll for completion of each step.\n",
              "// This uses a Promise to block the python side on completion of each step,\n",
              "// then passes the result of the previous step as the input to the next step.\n",
              "function _uploadFilesContinue(outputId) {\n",
              "  const outputElement = document.getElementById(outputId);\n",
              "  const steps = outputElement.steps;\n",
              "\n",
              "  const next = steps.next(outputElement.lastPromiseValue);\n",
              "  return Promise.resolve(next.value.promise).then((value) => {\n",
              "    // Cache the last promise value to make it available to the next\n",
              "    // step of the generator.\n",
              "    outputElement.lastPromiseValue = value;\n",
              "    return next.value.response;\n",
              "  });\n",
              "}\n",
              "\n",
              "/**\n",
              " * Generator function which is called between each async step of the upload\n",
              " * process.\n",
              " * @param {string} inputId Element ID of the input file picker element.\n",
              " * @param {string} outputId Element ID of the output display.\n",
              " * @return {!Iterable<!Object>} Iterable of next steps.\n",
              " */\n",
              "function* uploadFilesStep(inputId, outputId) {\n",
              "  const inputElement = document.getElementById(inputId);\n",
              "  inputElement.disabled = false;\n",
              "\n",
              "  const outputElement = document.getElementById(outputId);\n",
              "  outputElement.innerHTML = '';\n",
              "\n",
              "  const pickedPromise = new Promise((resolve) => {\n",
              "    inputElement.addEventListener('change', (e) => {\n",
              "      resolve(e.target.files);\n",
              "    });\n",
              "  });\n",
              "\n",
              "  const cancel = document.createElement('button');\n",
              "  inputElement.parentElement.appendChild(cancel);\n",
              "  cancel.textContent = 'Cancel upload';\n",
              "  const cancelPromise = new Promise((resolve) => {\n",
              "    cancel.onclick = () => {\n",
              "      resolve(null);\n",
              "    };\n",
              "  });\n",
              "\n",
              "  // Wait for the user to pick the files.\n",
              "  const files = yield {\n",
              "    promise: Promise.race([pickedPromise, cancelPromise]),\n",
              "    response: {\n",
              "      action: 'starting',\n",
              "    }\n",
              "  };\n",
              "\n",
              "  cancel.remove();\n",
              "\n",
              "  // Disable the input element since further picks are not allowed.\n",
              "  inputElement.disabled = true;\n",
              "\n",
              "  if (!files) {\n",
              "    return {\n",
              "      response: {\n",
              "        action: 'complete',\n",
              "      }\n",
              "    };\n",
              "  }\n",
              "\n",
              "  for (const file of files) {\n",
              "    const li = document.createElement('li');\n",
              "    li.append(span(file.name, {fontWeight: 'bold'}));\n",
              "    li.append(span(\n",
              "        `(${file.type || 'n/a'}) - ${file.size} bytes, ` +\n",
              "        `last modified: ${\n",
              "            file.lastModifiedDate ? file.lastModifiedDate.toLocaleDateString() :\n",
              "                                    'n/a'} - `));\n",
              "    const percent = span('0% done');\n",
              "    li.appendChild(percent);\n",
              "\n",
              "    outputElement.appendChild(li);\n",
              "\n",
              "    const fileDataPromise = new Promise((resolve) => {\n",
              "      const reader = new FileReader();\n",
              "      reader.onload = (e) => {\n",
              "        resolve(e.target.result);\n",
              "      };\n",
              "      reader.readAsArrayBuffer(file);\n",
              "    });\n",
              "    // Wait for the data to be ready.\n",
              "    let fileData = yield {\n",
              "      promise: fileDataPromise,\n",
              "      response: {\n",
              "        action: 'continue',\n",
              "      }\n",
              "    };\n",
              "\n",
              "    // Use a chunked sending to avoid message size limits. See b/62115660.\n",
              "    let position = 0;\n",
              "    do {\n",
              "      const length = Math.min(fileData.byteLength - position, MAX_PAYLOAD_SIZE);\n",
              "      const chunk = new Uint8Array(fileData, position, length);\n",
              "      position += length;\n",
              "\n",
              "      const base64 = btoa(String.fromCharCode.apply(null, chunk));\n",
              "      yield {\n",
              "        response: {\n",
              "          action: 'append',\n",
              "          file: file.name,\n",
              "          data: base64,\n",
              "        },\n",
              "      };\n",
              "\n",
              "      let percentDone = fileData.byteLength === 0 ?\n",
              "          100 :\n",
              "          Math.round((position / fileData.byteLength) * 100);\n",
              "      percent.textContent = `${percentDone}% done`;\n",
              "\n",
              "    } while (position < fileData.byteLength);\n",
              "  }\n",
              "\n",
              "  // All done.\n",
              "  yield {\n",
              "    response: {\n",
              "      action: 'complete',\n",
              "    }\n",
              "  };\n",
              "}\n",
              "\n",
              "scope.google = scope.google || {};\n",
              "scope.google.colab = scope.google.colab || {};\n",
              "scope.google.colab._files = {\n",
              "  _uploadFiles,\n",
              "  _uploadFilesContinue,\n",
              "};\n",
              "})(self);\n",
              "</script> "
            ]
          },
          "metadata": {}
        },
        {
          "output_type": "stream",
          "name": "stdout",
          "text": [
            "Saving for_gemini (1).csv to for_gemini (1).csv\n"
          ]
        }
      ],
      "source": [
        "# Import Screened Files and Evaluate\n",
        "from google.colab import files\n",
        "uploaded = files.upload() # Upload the for_gemini(1).csv file"
      ]
    },
    {
      "cell_type": "markdown",
      "source": [
        "I didn't know how to read the abstracts into a string array. The prompt below is my request to Gemini, which wrote this code chunk"
      ],
      "metadata": {
        "id": "RwgFVQerNmx7"
      }
    },
    {
      "cell_type": "code",
      "execution_count": 9,
      "metadata": {
        "id": "2sFPbi-nSMYf"
      },
      "outputs": [],
      "source": [
        "# prompt: read each line of the uploaded file into an element of a string array\n",
        "filename = next(iter(uploaded))\n",
        "with open(filename, 'r') as file:\n",
        "  lines = file.readlines()\n"
      ]
    },
    {
      "cell_type": "code",
      "execution_count": 1,
      "metadata": {
        "id": "wD2a4JuhMcaW"
      },
      "outputs": [],
      "source": [
        "prompt = \"The following text contains a study abstract. A study should be included in full text screening if 1) the study sample is comprised of patient with secondary lymphedema resulting from cancer treatments (ie lymphemdema secondary to cancer, cancer-related lymphedema) and 2) the study investigates treatments for lymphedema (interventions for treating existing lymphedema) 3) the study compares lymphedema outcomes between groups or pre and post (before and after) treatment. Studies should be excluded from full text screening if they 1) use a pediatric sample, 2) involve primary lymphedema, 3) investigate the prevalence or incidence of lymphedema, 4) present a case study or 5) if the study sample is patients at risk of lymphedema as opposed to having lymphedema 6) the study focuses on diagnosing lymphedema. Please output a decision, either Include or Exclude.\""
      ]
    },
    {
      "cell_type": "code",
      "source": [
        "print(prompt)"
      ],
      "metadata": {
        "colab": {
          "base_uri": "https://localhost:8080/"
        },
        "id": "1Ek1mA7RJGNk",
        "outputId": "7c80c719-2512-4e89-af4c-c3779c64122b"
      },
      "execution_count": 2,
      "outputs": [
        {
          "output_type": "stream",
          "name": "stdout",
          "text": [
            "The following text contains a study abstract. A study should be included in full text screening if 1) the study sample is comprised of patient with secondary lymphedema resulting from cancer treatments (ie lymphemdema secondary to cancer, cancer-related lymphedema) and 2) the study investigates treatments for lymphedema (interventions for treating existing lymphedema) 3) the study compares lymphedema outcomes between groups or pre and post (before and after) treatment. Studies should be excluded from full text screening if they 1) use a pediatric sample, 2) involve primary lymphedema, 3) investigate the prevalence or incidence of lymphedema, 4) present a case study or 5) if the study sample is patients at risk of lymphedema as opposed to having lymphedema 6) the study focuses on diagnosing lymphedema. Please output a decision, either Include or Exclude.\n"
          ]
        }
      ]
    },
    {
      "cell_type": "markdown",
      "source": [
        "That didn't print very nicely - but I'm not great with python, so I didn't know how to make it look nicer ... but Gemini can help with that!"
      ],
      "metadata": {
        "id": "boOJunf7JlYM"
      }
    },
    {
      "cell_type": "code",
      "source": [
        "# Don't run this one!\n",
        "# prompt: how can I print a long string so that it wraps nicely view viewing here?\n",
        "\n",
        "import textwrap\n",
        "\n",
        "long_string = \"The following text contains a study abstract. A study should be included in full text screening if 1) the study sample is comprised of patient with secondary lymphedema resulting from cancer treatments (ie lymphemdema secondary to cancer, cancer-related lymphedema) and 2) the study investigates treatments for lymphedema (interventions for treating existing lymphedema) 3) the study compares lymphedema outcomes between groups or pre and post (before and after) treatment. Studies should be excluded from full text screening if they 1) use a pediatric sample, 2) involve primary lymphedema, 3) investigate the prevalence or incidence of lymphedema, 4) present a case study or 5) if the study sample is patients at risk of lymphedema as opposed to having lymphedema 6) the study focuses on diagnosing lymphedema. Please output a decision, either Include or Exclude.\"\n",
        "\n",
        "# Wrap the long string to a desired width\n",
        "wrapped_string = textwrap.fill(long_string, width=80)  # Adjust width as needed\n",
        "\n",
        "print(wrapped_string)\n"
      ],
      "metadata": {
        "id": "v7AzW9JFJWUy"
      },
      "execution_count": null,
      "outputs": []
    },
    {
      "cell_type": "code",
      "source": [
        "import textwrap\n",
        "\n",
        "# Wrap the long string to a desired width\n",
        "wrapped_string = textwrap.fill(prompt, width=80)  # Adjust width as needed\n",
        "\n",
        "print(wrapped_string)"
      ],
      "metadata": {
        "colab": {
          "base_uri": "https://localhost:8080/"
        },
        "id": "aoJPfrmqLIhp",
        "outputId": "82e19133-dfa3-4fad-e4c6-791c09123f03"
      },
      "execution_count": 10,
      "outputs": [
        {
          "output_type": "stream",
          "name": "stdout",
          "text": [
            "The following text contains a study abstract. A study should be included in full\n",
            "text screening if 1) the study sample is comprised of patient with secondary\n",
            "lymphedema resulting from cancer treatments (ie lymphemdema secondary to cancer,\n",
            "cancer-related lymphedema) and 2) the study investigates treatments for\n",
            "lymphedema (interventions for treating existing lymphedema) 3) the study\n",
            "compares lymphedema outcomes between groups or pre and post (before and after)\n",
            "treatment. Studies should be excluded from full text screening if they 1) use a\n",
            "pediatric sample, 2) involve primary lymphedema, 3) investigate the prevalence\n",
            "or incidence of lymphedema, 4) present a case study or 5) if the study sample is\n",
            "patients at risk of lymphedema as opposed to having lymphedema 6) the study\n",
            "focuses on diagnosing lymphedema. Please output a decision, either Include or\n",
            "Exclude.\n"
          ]
        }
      ]
    },
    {
      "cell_type": "markdown",
      "source": [
        "To use the API we now provide the generative AI model with our prompt and the text of each abstract and we store the results."
      ],
      "metadata": {
        "id": "HgrRHqx1QxEx"
      }
    },
    {
      "cell_type": "code",
      "execution_count": 11,
      "metadata": {
        "colab": {
          "base_uri": "https://localhost:8080/",
          "height": 35
        },
        "id": "HCLxw9lkTvdv",
        "outputId": "d77e27bb-2d16-468a-9e4a-35a12a165abe"
      },
      "outputs": [
        {
          "output_type": "stream",
          "name": "stdout",
          "text": [
            "complete\n"
          ]
        }
      ],
      "source": [
        "screening_output = [];i=0\n",
        "while i < 2:\n",
        "#while i < len(lines): # this will iterate over all of the abstracts\n",
        "  ln = lines[i]\n",
        "  response = model.generate_content(prompt + ln)\n",
        "  try:\n",
        "    out = response.text\n",
        "  except:\n",
        "    out=\"NE\"\n",
        "  screening_output.append(out)\n",
        "  i = i+1\n",
        "print(\"complete\")"
      ]
    },
    {
      "cell_type": "code",
      "execution_count": 12,
      "metadata": {
        "colab": {
          "base_uri": "https://localhost:8080/"
        },
        "id": "4GQE95xLH506",
        "outputId": "616d40f3-42a1-4943-c34c-a70d2f49cbfc"
      },
      "outputs": [
        {
          "output_type": "stream",
          "name": "stdout",
          "text": [
            "\n",
            "First Study:\n",
            "\n",
            "Introduction. The aim of the study was to compare the effectiveness of two\n",
            "individualized physical interventions on the upper limb condition after radical\n",
            "mastectomy. Methods. Overall, 68 patients after breast cancer surgery\n",
            "participated in 12-week outpatient rehabilitation. They were randomly enrolled\n",
            "for water individualized physical intervention (water exercise group, n = 34)\n",
            "and Pilates physical intervention (Pilates group, n = 34). Upper limb force\n",
            "(dynamometry), size of upper limb lymphedema (circumference), and active range\n",
            "of motion (goniometry) on the affected side were determined before and after 36\n",
            "individualized physical rehabilitation sessions. Results. After 12-week physical\n",
            "rehabilitation, the average values of active range of flexion and abduction were\n",
            "statistically significantly higher in the water exercise group compared with the\n",
            "Pilates group by 8.73 degrees (p < 0.01) and 6.87 degrees (p < 0.01),\n",
            "respectively. The size of lymphedema in the area of forearm and hand was\n",
            "significantly lower in the water exercise group compared with the Pilates group\n",
            "by 0.46 cm (p < 0.05) and 0.44 cm (p < 0.05), respectively. There were no\n",
            "statistically significant differences in upper limb force between the studied\n",
            "groups at the end of the 12-week intervention. Conclusions. The results have\n",
            "confirmed that elaborated individualized physical interventions might be\n",
            "considered as effective methods for range of motion improvement and decrease in\n",
            "breast cancer-related lymphedema in patients with post-mastectomy syndrome. The\n",
            "3-month water exercises were more effective in improving mobility and muscle\n",
            "force of the upper limb and decreasing lymphedema than Pilates exercises.\n",
            "\n",
            "Second Abstract :\n",
            "\n"
          ]
        }
      ],
      "source": [
        "print(\"\\nFirst Study:\\n\")\n",
        "print(textwrap.fill(lines[1], width=80))\n",
        "print(\"\\nSecond Abstract :\\n\")\n",
        "print(textwrap.fill(lines[2], width=80))"
      ]
    },
    {
      "cell_type": "code",
      "execution_count": 13,
      "metadata": {
        "colab": {
          "base_uri": "https://localhost:8080/"
        },
        "id": "QIz-18-zI__V",
        "outputId": "bdb340ab-3b6e-4999-d256-3e5d40041fc1"
      },
      "outputs": [
        {
          "output_type": "stream",
          "name": "stdout",
          "text": [
            "['Include', 'Include']\n"
          ]
        }
      ],
      "source": [
        "print(screening_output)"
      ]
    }
  ],
  "metadata": {
    "accelerator": "GPU",
    "colab": {
      "gpuType": "L4",
      "machine_shape": "hm",
      "provenance": [],
      "history_visible": true
    },
    "kernelspec": {
      "display_name": "Python 3",
      "name": "python3"
    },
    "language_info": {
      "name": "python"
    }
  },
  "nbformat": 4,
  "nbformat_minor": 0
}